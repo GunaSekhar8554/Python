{
 "cells": [
  {
   "cell_type": "code",
   "execution_count": null,
   "metadata": {},
   "outputs": [],
   "source": [
    "# Colons, : are used to declare an indented code block\n",
    "# Every function belonging to a class must be indented\n",
    "# Every line of code belonging to a function must be indented\n",
    "# Every line of code belonging to a loop must be indented\n",
    "# Every line of code belonging to a conditional must be indented\n",
    "# Every line of code belonging to a try/except must be indented\n"
   ]
  },
  {
   "cell_type": "code",
   "execution_count": null,
   "metadata": {},
   "outputs": [],
   "source": [
    "# SPACES OR TABS - INDENTATION\n",
    "# The recommended indetation is 4 spaces but tabs and spaces can be used\n",
    "# One tab is equal to 8 spaces"
   ]
  },
  {
   "cell_type": "code",
   "execution_count": null,
   "metadata": {},
   "outputs": [],
   "source": [
    "\n",
    "# How indentation is parsed\n",
    "# Whitespace is handled by the lexical analyzer before being parsed.\n",
    "# The lexical analyzer uses a stack to store indentation levels. At the beginning, the stack contains just the value 0,\n",
    "# which is the leftmost position. Whenever a nested block begins, the new indentation level is pushed on the stack,\n",
    "# and an \"INDENT\" token is inserted into the token stream which is passed to the parser. There can never be more\n",
    "# than one \"INDENT\" token in a row (IndentationError).\n",
    "# When a line is encountered with a smaller indentation level, values are popped from the stack until a value is on top\n",
    "# which is equal to the new indentation level (if none is found, a syntax error occurs). For each value popped, a\n",
    "# \"DEDENT\" token is generated. Obviously, there can be multiple \"DEDENT\" tokens in a row.\n",
    "# The lexical analyzer skips empty lines (those containing only whitespace and possibly comments), and will never\n",
    "# generate either \"INDENT\" or \"DEDENT\" tokens for them.\n",
    "# At the end of the source code, \"DEDENT\" tokens are generated for each indentation level left on the stack, until just\n",
    "# the 0 is left."
   ]
  },
  {
   "cell_type": "code",
   "execution_count": null,
   "metadata": {},
   "outputs": [],
   "source": [
    "if foo:\n",
    "    if bar:\n",
    "        x = 42\n",
    "    else:\n",
    "        print(foo)\n",
    "\n",
    "# It is analyzed as:\n",
    "# <if> <foo> <:>  [0]\n",
    "# <INDENT> <if> <bar> <:>  [0, 4]\n",
    "# <INDENT> <x> <==> <42>  [0, 4, 8]\n",
    "# <DEDENT><DEDENt> <else> <:>  [0]\n",
    "# <INDENT> <print>  <foo>   [0, 2]\n",
    "# <DEDENT> \n",
    "# The parser than handles the \"INDENT\" and \"DEDENT\" tokens.\" as block delimiters."
   ]
  },
  {
   "cell_type": "code",
   "execution_count": 1,
   "metadata": {},
   "outputs": [
    {
     "ename": "IndentationError",
     "evalue": "expected an indented block after 'if' statement on line 5 (106228559.py, line 6)",
     "output_type": "error",
     "traceback": [
      "\u001b[0;36m  Cell \u001b[0;32mIn[1], line 6\u001b[0;36m\u001b[0m\n\u001b[0;31m    return True\u001b[0m\n\u001b[0m    ^\u001b[0m\n\u001b[0;31mIndentationError\u001b[0m\u001b[0;31m:\u001b[0m expected an indented block after 'if' statement on line 5\n"
     ]
    }
   ],
   "source": [
    "# The spacign should be even and uniform throughout the code.\n",
    "# Improper inddentataion can cause an IndentataionError.\n",
    "# If you add indentataion where it doesn't belong, an IndentationError will be raised.\n",
    "#If you forget to un-indent functionality could be lost. In this example None is returned instead of the expected False:\n",
    "def isEven(a):\n",
    " if a%2 ==0:\n",
    " return True\n",
    " #this next line should be even with the if\n",
    " return False\n",
    "print isEven(7)"
   ]
  }
 ],
 "metadata": {
  "kernelspec": {
   "display_name": "Python 3",
   "language": "python",
   "name": "python3"
  },
  "language_info": {
   "codemirror_mode": {
    "name": "ipython",
    "version": 3
   },
   "file_extension": ".py",
   "mimetype": "text/x-python",
   "name": "python",
   "nbconvert_exporter": "python",
   "pygments_lexer": "ipython3",
   "version": "3.10.4"
  },
  "orig_nbformat": 4
 },
 "nbformat": 4,
 "nbformat_minor": 2
}
