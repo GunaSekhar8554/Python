{
 "cells": [
  {
   "cell_type": "code",
   "execution_count": 3,
   "metadata": {},
   "outputs": [
    {
     "name": "stdout",
     "output_type": "stream",
     "text": [
      "Hello World\n"
     ]
    },
    {
     "data": {
      "text/plain": [
       "'\\nTHIS IS A MULTILINE COMMENT IN PYTHON\\nTHIS IS A MULTILINE COMMENT IN PYTHON\\n'"
      ]
     },
     "execution_count": 3,
     "metadata": {},
     "output_type": "execute_result"
    }
   ],
   "source": [
    "# SINGLE LINE, INLINE AND MULTILINE COMMENTS\n",
    "# Single line comments are preceded by a hash (#) symbol\n",
    "# Inline comments are preceded by a hash (#) symbol\n",
    "# Multiline comments are preceded by a hash (#) symbol\n",
    "# and are enclosed by three single quotes (''')\n",
    "      # THIS IS A SINGLE LINE COMMENT IN PYTHON \n",
    "print(\"Hello World\") # THIS IS AN INLINE COMMENT IN PYTHON\n",
    "# Comments spanning multiple lines are enclosed by three single quotes (''')\n",
    "'''\n",
    "THIS IS A MULTILINE COMMENT IN PYTHON\n",
    "THIS IS A MULTILINE COMMENT IN PYTHON\n",
    "'''\n",
    "\n",
    "\"\"\"\n",
    "THIS IS A MULTILINE COMMENT IN PYTHON\n",
    "THIS IS A MULTILINE COMMENT IN PYTHON\n",
    "\"\"\""
   ]
  },
  {
   "cell_type": "code",
   "execution_count": 6,
   "metadata": {},
   "outputs": [
    {
     "name": "stdout",
     "output_type": "stream",
     "text": [
      "This is a docstring\n",
      "Help on function func in module __main__:\n",
      "\n",
      "func()\n",
      "    This is a docstring\n",
      "\n",
      "None\n"
     ]
    }
   ],
   "source": [
    "# PROGRAMMATICALLY ACCESSING docstrings\n",
    "# Docstrings are -unlike regular comments -stored as an attribute of the funtion they document.\n",
    "def func():\n",
    "    \"\"\"This is a docstring\"\"\"\n",
    "    return \n",
    "# The docstring can be accessed by calling the __doc__ attribute of the function\n",
    "print(func.__doc__)\n",
    "help(func)\n"
   ]
  },
  {
   "cell_type": "code",
   "execution_count": 8,
   "metadata": {},
   "outputs": [
    {
     "name": "stdout",
     "output_type": "stream",
     "text": [
      "None\n",
      "Help on function great in module __main__:\n",
      "\n",
      "great(name, greeting='Hello')\n",
      "    # ADVANTAGES OF docstrings OVER COMMENTS\n",
      "    # Just putting no docstring or a regular comment in a function make it a lot less helpful.\n",
      "\n"
     ]
    }
   ],
   "source": [
    "# ADVANTAGES OF docstrings OVER COMMENTS\n",
    "# Just putting no docstring or a regular comment in a function make it a lot less helpful.\n",
    "def great(name, greeting = \"Hello\"):\n",
    "    # Print a greeitn to the user name\n",
    "    # Optional paramater greeting can change what they're greeted with\n",
    "    print(\"{} {}\".format(greeting, name))\n",
    "\n",
    "print(great.__doc__)\n",
    "help(great)\n"
   ]
  },
  {
   "cell_type": "code",
   "execution_count": null,
   "metadata": {},
   "outputs": [],
   "source": [
    "# WRITE DOCUMENTATION USIGN DOCSTRINGS\n",
    "# A docstring is a multi-line comment used to document modules, functions, classes, and methods.\n",
    "def hello(name):\n",
    "    \"\"\"\n",
    "    Greet someone\n",
    "    Print a greeting (\"Hello\") for the person with the given name.\n",
    "    \"\"\"\n",
    "    print(\"Hello\"+name)\n",
    "class Greeter:\n",
    "        \"\"\"\n",
    "        An object used to greet people.\n",
    "        It contains multiple greeting functions for several languages and times of the day.\n",
    "        \"\"\"     "
   ]
  },
  {
   "cell_type": "code",
   "execution_count": null,
   "metadata": {},
   "outputs": [],
   "source": [
    "# SYNTAX CONVENTIONS\n",
    "# PEP 257 defines a syntax standard for docstring comments.It basically allows two types.\n",
    "# According to PEP 257 , they should be used with short and simple functions. Everything is places in one line\n",
    "def hello():\n",
    "    \"\"\"\n",
    "    Say hello to your friends\"\"\"\n",
    "    print(\"Hello\")"
   ]
  },
  {
   "cell_type": "code",
   "execution_count": null,
   "metadata": {},
   "outputs": [],
   "source": [
    "# The docstring should be placed in the first line of the function\n",
    "# The docstring should be placed in the first line of the class\n",
    "# The docstring should be placed in the first line of the module\n",
    "# The docstring should be placed in the first line of the method\n",
    "# The docstring should be placed in the first line of the package\n",
    "# THE DOCSTRING SALL END WITH A PERIOD, THE VERB SHOULD BE THE IMPERATIVE FORM."
   ]
  },
  {
   "cell_type": "code",
   "execution_count": 9,
   "metadata": {},
   "outputs": [],
   "source": [
    "# Multip-line docstrings should be used for longer, more complex functions, modules or classes.\n",
    "def hello(name, language=\"en\"):\n",
    " \"\"\"Say hello to a person.\n",
    " Arguments:\n",
    " name: the name of the person\n",
    " language: the language in which the person should be greeted\n",
    " \"\"\"\n",
    " print(greeting[language]+\" \"+name)\n"
   ]
  },
  {
   "cell_type": "code",
   "execution_count": null,
   "metadata": {},
   "outputs": [],
   "source": [
    "# Note PEP 257 defines what information should be given within a docstring, it doesn't define in which format it\n",
    "# should be given. This was the reason for other parties and documentation parsing tools to specify their own\n",
    "# standards for documentation, some of which are listed below and in this question."
   ]
  },
  {
   "cell_type": "code",
   "execution_count": null,
   "metadata": {},
   "outputs": [],
   "source": [
    "# Sphix and  Goodlg Python Style Guide"
   ]
  }
 ],
 "metadata": {
  "kernelspec": {
   "display_name": "Python 3",
   "language": "python",
   "name": "python3"
  },
  "language_info": {
   "codemirror_mode": {
    "name": "ipython",
    "version": 3
   },
   "file_extension": ".py",
   "mimetype": "text/x-python",
   "name": "python",
   "nbconvert_exporter": "python",
   "pygments_lexer": "ipython3",
   "version": "3.10.4"
  },
  "orig_nbformat": 4
 },
 "nbformat": 4,
 "nbformat_minor": 2
}
