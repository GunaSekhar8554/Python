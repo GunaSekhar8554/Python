{
 "cells": [
  {
   "attachments": {},
   "cell_type": "markdown",
   "metadata": {},
   "source": [
    "# There are 8 versions in python 2x and 12 in python 3x currently 3.11.1 is running\n",
    "# Python a high-level programming language is invented by Guide Van Rossum in 1991.\n",
    "# Features of the Python include \n",
    "      1. Dynamic Typing[Change it behavior at runtime based on user input] \n",
    "      2. Automatic Memory Management\n",
    "      3. Multiple Programming Paradigms\n",
    "      4. Object-Oriented Programming\n",
    "      5. Imperative and Functional Programming and Procedural Styles\n",
    "      6. Extensive Standard Library and Interpreted[Does not need to be compiled \n",
    "         before Execution]"
   ]
  },
  {
   "cell_type": "code",
   "execution_count": null,
   "metadata": {},
   "outputs": [],
   "source": [
    "# To use the Python 3 modules in python 2 then use the \n",
    "from  __future__ import print_function\n",
    "# In Python 2  the print is written without braces \n",
    "print 'Hello, World'"
   ]
  }
 ],
 "metadata": {
  "language_info": {
   "name": "python"
  },
  "orig_nbformat": 4
 },
 "nbformat": 4,
 "nbformat_minor": 2
}
