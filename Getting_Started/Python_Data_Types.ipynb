{
 "cells": [
  {
   "cell_type": "code",
   "execution_count": null,
   "metadata": {},
   "outputs": [],
   "source": [
    "# Data types are nothing but variables you use to reserve some space in memory.\n",
    "# The declaration happens automatically when you assign a value to a variable."
   ]
  },
  {
   "cell_type": "code",
   "execution_count": 1,
   "metadata": {},
   "outputs": [
    {
     "name": "stdout",
     "output_type": "stream",
     "text": [
      "Hello World\n",
      "<class 'str'>\n",
      "H\n",
      "Hello\n"
     ]
    }
   ],
   "source": [
    "# STRING DATA TYPE\n",
    "# String are identified as a contiguous set of characters represented in the quotation marks.\n",
    "# Strings are immutable sequence data type\n",
    "# Strings are ordered sequence data type\n",
    "# Strings are iterable , hashable, indexable , subscriptable , comparable, concatenatable, repeatable data type\n",
    "a = \"Hello World\"\n",
    "print(a)\n",
    "print(type(a))\n",
    "print(a[0])\n",
    "print(a[0:5])"
   ]
  },
  {
   "cell_type": "code",
   "execution_count": 2,
   "metadata": {},
   "outputs": [
    {
     "name": "stdout",
     "output_type": "stream",
     "text": [
      "{1, 2, 3, 4, 5, 6, 7, 8, 9, 10}\n",
      "{1, 2, 3, 4, 5, 6, 7, 8, 9, 10}\n",
      "{1, 2, 3, 4, 5, 6, 7, 8, 9, 10, 11}\n"
     ]
    }
   ],
   "source": [
    "# SET DATA TYPE\n",
    "# Set is an unordered collection of unique elements.\n",
    "# Set is mutable data type\n",
    "# Set is unordered data type\n",
    "# Set is iterable , hashable, indexable , subscriptable , comparable, concatenatable, repeatable data type\n",
    "a = {1,2,3,4,5,6,7,8,9,10}\n",
    "print(a)\n",
    "b = set([1,2,3,4,5,6,7,8,9,10])\n",
    "print(b)\n",
    "b.add(11)\n",
    "print(b)"
   ]
  },
  {
   "cell_type": "code",
   "execution_count": 3,
   "metadata": {},
   "outputs": [
    {
     "name": "stdout",
     "output_type": "stream",
     "text": [
      "frozenset({1, 2, 3, 4, 5, 6, 7, 8, 9, 10})\n",
      "<class 'frozenset'>\n"
     ]
    }
   ],
   "source": [
    "# Frozen Set\n",
    "# Frozen set is an immutable version of a Python set object.\n",
    "# Frozen set is immutable data type\n",
    "# Frozen set is unordered data type\n",
    "# Frozen set is iterable , hashable, indexable , subscriptable , comparable, concatenatable, repeatable data type\n",
    "a = frozenset([1,2,3,4,5,6,7,8,9,10])\n",
    "print(a)\n",
    "print(type(a))"
   ]
  },
  {
   "cell_type": "code",
   "execution_count": 5,
   "metadata": {},
   "outputs": [
    {
     "ename": "SyntaxError",
     "evalue": "invalid decimal literal (2904961552.py, line 7)",
     "output_type": "error",
     "traceback": [
      "\u001b[0;36m  Cell \u001b[0;32mIn[5], line 7\u001b[0;36m\u001b[0m\n\u001b[0;31m    long_num = 1234567L\u001b[0m\n\u001b[0m                     ^\u001b[0m\n\u001b[0;31mSyntaxError\u001b[0m\u001b[0;31m:\u001b[0m invalid decimal literal\n"
     ]
    }
   ],
   "source": [
    "# NUMERIC DATA TYPE\n",
    "# Numbers have four data types in Python. int, float, complex and bool.\n",
    "int_num = 10\n",
    "float_num = 10.0\n",
    "complex_num = 10 + 10j\n",
    "bool_num = True\n",
    "long_num = 1234567L\n",
    "print(long_num)"
   ]
  },
  {
   "cell_type": "code",
   "execution_count": 6,
   "metadata": {},
   "outputs": [
    {
     "name": "stdout",
     "output_type": "stream",
     "text": [
      "[1, 2, 3, 4, 5, 6, 7, 8, 9, 10]\n",
      "[[1, 2, 3, 4, 5, 6, 7, 8, 9, 10], [1, 2, 3, 4, 5, 6, 7, 8, 9, 10]]\n",
      "[1, 2, 3, 4, 5, 6, 7, 8, 9, 10, 1, 2, 3, 4, 5, 6, 7, 8, 9, 10]\n",
      "[1, 2, 3, 4, 5, 6, 7, 8, 9, 10, 1, 2, 3, 4, 5, 6, 7, 8, 9, 10]\n"
     ]
    }
   ],
   "source": [
    "# LIST DATA TYPE\n",
    "# List is an ordered sequence of items.\n",
    "# List is mutable data type\n",
    "# List is ordered data type\n",
    "# List is iterable , hashable, indexable , subscriptable , comparable, concatenatable, repeatable data type\n",
    "a = [1,2,3,4,5,6,7,8,9,10]\n",
    "b = [1,2,3,4,5,6,7,8,9,10]\n",
    "print(a)\n",
    "print([a,b])\n",
    "print(a*2)\n",
    "print(a+b)"
   ]
  },
  {
   "cell_type": "code",
   "execution_count": 7,
   "metadata": {},
   "outputs": [
    {
     "name": "stdout",
     "output_type": "stream",
     "text": [
      "{'name': 'red', 'age': 10}\n",
      "red\n",
      "dict_keys(['name', 'age'])\n",
      "dict_values(['red', 10])\n"
     ]
    }
   ],
   "source": [
    "# DICTIONARY DATA TYPE\n",
    "# Dictionary is an unordered collection of key-value pairs.\n",
    "# Dictionary is mutable data type\n",
    "# Dictionary is unordered data type\n",
    "# Dictionary is iterable , hashable, indexable , subscriptable , comparable, concatenatable, repeatable data type\n",
    "dic = {\"name\":\"red\", \"age\":10}\n",
    "print(dic)\n",
    "print(dic[\"name\"])\n",
    "print(dic.keys())\n",
    "print(dic.values())"
   ]
  },
  {
   "cell_type": "code",
   "execution_count": 11,
   "metadata": {},
   "outputs": [
    {
     "name": "stdout",
     "output_type": "stream",
     "text": [
      "(1, 2, 3, 4, 5, 6, 7, 8, 9, 10)\n",
      "1\n",
      "(2, 3, 4, 5)\n",
      "(2, 3, 4, 5)\n"
     ]
    }
   ],
   "source": [
    "# TUPLE DATA TYPE\n",
    "# Tuple is an ordered sequence of items same as a list.\n",
    "# Tuple is immutable data type\n",
    "# Tuple is ordered data type\n",
    "# Tuple is iterable , hashable, indexable , subscriptable , comparable, concatenatable, repeatable data type\n",
    "a = (1,2,3,4,5,6,7,8,9,10)\n",
    "print(a)\n",
    "print(a[0])\n",
    "print(a:=a[1:5])\n",
    "print(a)"
   ]
  }
 ],
 "metadata": {
  "kernelspec": {
   "display_name": "Python 3",
   "language": "python",
   "name": "python3"
  },
  "language_info": {
   "codemirror_mode": {
    "name": "ipython",
    "version": 3
   },
   "file_extension": ".py",
   "mimetype": "text/x-python",
   "name": "python",
   "nbconvert_exporter": "python",
   "pygments_lexer": "ipython3",
   "version": "3.10.4"
  },
  "orig_nbformat": 4
 },
 "nbformat": 4,
 "nbformat_minor": 2
}
