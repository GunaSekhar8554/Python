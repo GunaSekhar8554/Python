{
 "cells": [
  {
   "cell_type": "code",
   "execution_count": null,
   "metadata": {},
   "outputs": [],
   "source": [
    "# There are 8 Versions in python2 and 12 versions in python3 currently Python11 is running.\n",
    "# Python a highlevel language[Human Readable] is invented by Guido Van Rossum in 1991.\n",
    "# The Features of Python are:\n",
    "#     1. Dynamically Typed[Change it behavior at runtime based on user input]\n",
    "#     2. Interpreted[Does not need to be compiled before Execution]\n",
    "#     3. Object Oriented\n",
    "#     4. Automatic Memory Management\n",
    "#     5. Multi programming Paradigm\n",
    "#     5. Imperative, Functional, Procedural.\n",
    "#     6. Extensible\n",
    "#     7. Portable\n",
    "#     8. Embeddable\n",
    "#     9. Extensive Standard Library and Third Party Modules\n"
   ]
  },
  {
   "cell_type": "code",
   "execution_count": 1,
   "metadata": {},
   "outputs": [
    {
     "ename": "SyntaxError",
     "evalue": "Missing parentheses in call to 'print'. Did you mean print(...)? (3243745478.py, line 4)",
     "output_type": "error",
     "traceback": [
      "\u001b[0;36m  Cell \u001b[0;32mIn[1], line 4\u001b[0;36m\u001b[0m\n\u001b[0;31m    print 'Hello, World'\u001b[0m\n\u001b[0m    ^\u001b[0m\n\u001b[0;31mSyntaxError\u001b[0m\u001b[0;31m:\u001b[0m Missing parentheses in call to 'print'. Did you mean print(...)?\n"
     ]
    }
   ],
   "source": [
    "# To use the Python 3 modules in python 2 then use the \n",
    "from  __future__ import print_function\n",
    "# In Python 2  the print is written without braces \n",
    "print 'Hello, World'\n",
    "     "
   ]
  },
  {
   "cell_type": "code",
   "execution_count": null,
   "metadata": {},
   "outputs": [],
   "source": [
    "# PACKAGE MANAGEMENT : The PyPA recommended tool for installing Python Package is pip.\n",
    "# Python tutor allows you to step through python code so you can visualize how the program will flow."
   ]
  },
  {
   "cell_type": "code",
   "execution_count": 4,
   "metadata": {},
   "outputs": [
    {
     "name": "stdout",
     "output_type": "stream",
     "text": [
      "1 235435464135465465 3.14 c Python True (1+2j) None\n"
     ]
    }
   ],
   "source": [
    "# CREATING VARIABELS AND ASSIGNING VALUES \n",
    "a , b , pi , c , name , q , x , y = 1 , 235435464135465465 , 3.14 , 'c' , 'Python' , True , 1 + 2j , None \n",
    "# Integer , Longinteger[considered as integer in python3] , Float , String , String, Boolean , Complex , None\n",
    "print ( a, b, pi, c, name, q, x, y )"
   ]
  }
 ],
 "metadata": {
  "kernelspec": {
   "display_name": "Python 3",
   "language": "python",
   "name": "python3"
  },
  "language_info": {
   "codemirror_mode": {
    "name": "ipython",
    "version": 3
   },
   "file_extension": ".py",
   "mimetype": "text/x-python",
   "name": "python",
   "nbconvert_exporter": "python",
   "pygments_lexer": "ipython3",
   "version": "3.10.4"
  },
  "orig_nbformat": 4
 },
 "nbformat": 4,
 "nbformat_minor": 2
}
