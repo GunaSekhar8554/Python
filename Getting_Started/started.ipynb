{
 "cells": [
  {
   "cell_type": "code",
   "execution_count": null,
   "metadata": {},
   "outputs": [],
   "source": [
    "# There are 8 Versions in python2 and 12 versions in python3 currently Python11 is running.\n",
    "# Python a highlevel language[Human Readable] is invented by Guido Van Rossum in 1991.\n",
    "# The Features of Python are:\n",
    "#     1. Dynamically Typed[Change it behavior at runtime based on user input]\n",
    "#     2. Interpreted[Does not need to be compiled before Execution]\n",
    "#     3. Object Oriented\n",
    "#     4. Automatic Memory Management\n",
    "#     5. Multi programming Paradigm\n",
    "#     5. Imperative, Functional, Procedural.\n",
    "#     6. Extensible\n",
    "#     7. Portable\n",
    "#     8. Embeddable\n",
    "#     9. Extensive Standard Library and Third Party Modules\n"
   ]
  },
  {
   "cell_type": "code",
   "execution_count": 1,
   "metadata": {},
   "outputs": [
    {
     "ename": "SyntaxError",
     "evalue": "Missing parentheses in call to 'print'. Did you mean print(...)? (3243745478.py, line 4)",
     "output_type": "error",
     "traceback": [
      "\u001b[0;36m  Cell \u001b[0;32mIn[1], line 4\u001b[0;36m\u001b[0m\n\u001b[0;31m    print 'Hello, World'\u001b[0m\n\u001b[0m    ^\u001b[0m\n\u001b[0;31mSyntaxError\u001b[0m\u001b[0;31m:\u001b[0m Missing parentheses in call to 'print'. Did you mean print(...)?\n"
     ]
    }
   ],
   "source": [
    "# To use the Python 3 modules in python 2 then use the \n",
    "from  __future__ import print_function\n",
    "# In Python 2  the print is written without braces \n",
    "print 'Hello, World'\n",
    "     "
   ]
  },
  {
   "cell_type": "code",
   "execution_count": null,
   "metadata": {},
   "outputs": [],
   "source": [
    "# PACKAGE MANAGEMENT : The PyPA recommended tool for installing Python Package is pip.\n",
    "# Python tutor allows you to step through python code so you can visualize how the program will flow."
   ]
  },
  {
   "cell_type": "code",
   "execution_count": 4,
   "metadata": {},
   "outputs": [
    {
     "name": "stdout",
     "output_type": "stream",
     "text": [
      "1 235435464135465465 3.14 c Python True (1+2j) None\n"
     ]
    }
   ],
   "source": [
    "# CREATING VARIABELS AND ASSIGNING VALUES \n",
    "a , b , pi , c , name , q , x , y = 1 , 235435464135465465 , 3.14 , 'c' , 'Python' , True , 1 + 2j , None \n",
    "# Integer , Longinteger[considered as integer in python3] , Float , String , String, Boolean , Complex , None\n",
    "print ( a, b, pi, c, name, q, x, y )"
   ]
  },
  {
   "cell_type": "code",
   "execution_count": 5,
   "metadata": {},
   "outputs": [
    {
     "ename": "SyntaxError",
     "evalue": "cannot assign to literal here. Maybe you meant '==' instead of '='? (3712308084.py, line 2)",
     "output_type": "error",
     "traceback": [
      "\u001b[0;36m  Cell \u001b[0;32mIn[5], line 2\u001b[0;36m\u001b[0m\n\u001b[0;31m    0 = x\u001b[0m\n\u001b[0m    ^\u001b[0m\n\u001b[0;31mSyntaxError\u001b[0m\u001b[0;31m:\u001b[0m cannot assign to literal here. Maybe you meant '==' instead of '='?\n"
     ]
    }
   ],
   "source": [
    "# Variable assignment works from left to right. So the following is syntax error.\n",
    "0 = x \n"
   ]
  },
  {
   "cell_type": "code",
   "execution_count": 6,
   "metadata": {},
   "outputs": [
    {
     "name": "stdout",
     "output_type": "stream",
     "text": [
      "['False', 'None', 'True', 'and', 'as', 'assert', 'async', 'await', 'break', 'class', 'continue', 'def', 'del', 'elif', 'else', 'except', 'finally', 'for', 'from', 'global', 'if', 'import', 'in', 'is', 'lambda', 'nonlocal', 'not', 'or', 'pass', 'raise', 'return', 'try', 'while', 'with', 'yield']\n"
     ]
    }
   ],
   "source": [
    "# Rules for writing the variable names\n",
    "#     1. Variable names can contain only letters, numbers, and underscores.\n",
    "#     2. Variable names can start with a letter or an underscore, but not with a number.\n",
    "#     3. Spaces are not allowed in variable names, so we use underscore instead of spaces.\n",
    "#     4. Python is case sensitive, so capitalization matters.\n",
    "#     5. Avoid using Python keywords and function names as a variable name.\n",
    "# To print all the keyowrds in python \n",
    "import keyword\n",
    "print ( keyword.kwlist )"
   ]
  },
  {
   "cell_type": "code",
   "execution_count": 7,
   "metadata": {},
   "outputs": [
    {
     "name": "stdout",
     "output_type": "stream",
     "text": [
      "1 2 3\n",
      "1 3\n",
      "1\n"
     ]
    }
   ],
   "source": [
    "# There is no need to declare the variable type in python.\n",
    "a_name = 10 #an_onject # \"a_name\" is now a name for the reference to the object \"an_object\"\n",
    "# You can assign multiple values to multiple variables in one line.Note that there must be the same number\n",
    "# of variables on the left and values on the right.\n",
    "a , b , c = 1 , 2 , 3\n",
    "print(a, b, c)\n",
    "# A underscore or dummy variable can be used for assigning unwanted values\n",
    "a , _ , c = 1 , 2 , 3\n",
    "print(a, c)\n",
    "# Note that the number of _ and number of remaining values must be equal. \n",
    "a , _ , _ = 1 , 2 , 3\n",
    "print(a)"
   ]
  },
  {
   "cell_type": "code",
   "execution_count": 10,
   "metadata": {},
   "outputs": [
    {
     "name": "stdout",
     "output_type": "stream",
     "text": [
      "1 1 1\n",
      "[1, 2, 3]\n",
      "[4, 2, 3]\n",
      "4\n",
      "[3, 4, 5]\n",
      "1\n",
      "Hello\n"
     ]
    }
   ],
   "source": [
    "# We can assign a single value to several variables simultaneously.\n",
    "a = b = c = 1\n",
    "print(a, b, c)\n",
    "# Cascading assignment above is important to note that all the three variables a,b,c are refer to the same object \n",
    "# in  memory. So if we change the value of a then b and c will also change.\n",
    "# The above is also ture for MUTABLE objects like list, dictionary, set etc.  just as it is true for IMMUTABLE \n",
    "# TYPES  like int, float, string, tuple, boolean etc.\n",
    "x = y = [1, 2, 3]\n",
    "x = [4, 5, 6]\n",
    "print(y)\n",
    "# The above will print [1, 2, 3] because x and y are refering to the same object in memory.\n",
    "x = y = [1, 2, 3]\n",
    "x[0] = 4\n",
    "print(y)\n",
    "# The above will print [4, 2, 3] because x and y are refering to the same object in memory.\n",
    "# Nested lists are also valid in python. \n",
    "x = [1, 2, [3, 4, 5], 6]\n",
    "print(x[2][1])\n",
    "print(x[2])\n",
    "# Variables does not have to stay the same type.\n",
    "a = 1\n",
    "print(a)\n",
    "a = 'Hello'\n",
    "print(a)"
   ]
  },
  {
   "cell_type": "code",
   "execution_count": 11,
   "metadata": {},
   "outputs": [
    {
     "name": "stdout",
     "output_type": "stream",
     "text": [
      "Hello, World\n"
     ]
    }
   ],
   "source": [
    "# Python uses indentation to define control and loop constructs. \n",
    "# Blocks that contain exactly one single-lined statement can be written on the same line as the header.\n",
    "if 10==10: print('Hello, World')\n",
    "else: print(b)\n",
    "# An empty block clauses an IndentataionError. Use pass when you want to write an empty block.\n",
    "if 10==10: pass\n"
   ]
  },
  {
   "cell_type": "code",
   "execution_count": null,
   "metadata": {},
   "outputs": [],
   "source": [
    "# The tab character(\"\\t\") should be configured to show 8 spaces to mathc the language semantics.\n",
    "# The TAB key will insert 4 spaces\n",
    "# It is recommended to use 4 spaces for indentation."
   ]
  },
  {
   "cell_type": "code",
   "execution_count": null,
   "metadata": {},
   "outputs": [],
   "source": [
    "# DATA TYPES\n",
    "# Python has the following data types built-in by default, in these categories:\n",
    "#     Text Type:\tstr\n",
    "#     Numeric Types:\tint, float, complex\n",
    "#     Sequence Types:\tlist, tuple, range\n",
    "#     Mapping Type:\tdict\n",
    "#     Set Types:\tset, frozenset\n",
    "#     Boolean Type:\tbool\n",
    "#     Binary Types:\tbytes, bytearray, memoryview\n",
    "# There are also some modules like array, collections, decimal, fractions, heapq, itertools, math, random, statistics, timeit, and types.\n"
   ]
  },
  {
   "cell_type": "code",
   "execution_count": 12,
   "metadata": {},
   "outputs": [
    {
     "name": "stdout",
     "output_type": "stream",
     "text": [
      "1\n",
      "1\n",
      "False\n",
      "True\n",
      "True\n",
      "True\n",
      "2\n",
      "1\n"
     ]
    }
   ],
   "source": [
    "#  bool: A boolean value of either True or False. Note that the capitalization is important. Logical \n",
    "#  operations like and, or, not are also supported.\n",
    "print(1 or 1)\n",
    "print (1 and 1 )\n",
    "print (not 1)\n",
    "# In python 2.x and in Python 3.x  a blloean is also an int. The bool types is a subclass of the int type and \n",
    "#  True  and Flase are its only instances.\n",
    "print (issubclass(bool, int))\n",
    "print (isinstance(True, bool))\n",
    "print (isinstance(False, bool))\n",
    "# If boolean values are used in artihmetic operations then they are converted to 1 and 0 respectively.\n",
    "print (True + True)\n",
    "print (True + False)"
   ]
  }
 ],
 "metadata": {
  "kernelspec": {
   "display_name": "Python 3",
   "language": "python",
   "name": "python3"
  },
  "language_info": {
   "codemirror_mode": {
    "name": "ipython",
    "version": 3
   },
   "file_extension": ".py",
   "mimetype": "text/x-python",
   "name": "python",
   "nbconvert_exporter": "python",
   "pygments_lexer": "ipython3",
   "version": "3.10.4"
  },
  "orig_nbformat": 4
 },
 "nbformat": 4,
 "nbformat_minor": 2
}
